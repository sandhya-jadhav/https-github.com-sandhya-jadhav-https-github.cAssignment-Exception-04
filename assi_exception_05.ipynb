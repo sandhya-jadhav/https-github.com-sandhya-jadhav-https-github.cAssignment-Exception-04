{
 "cells": [
  {
   "cell_type": "markdown",
   "id": "015a4b33-9efa-48de-969b-09019e9ca1f6",
   "metadata": {},
   "source": [
    "### Q1. What is multiprocessing in python? Why is it useful?"
   ]
  },
  {
   "cell_type": "markdown",
   "id": "88ec1eab-fb49-4d05-a786-6e13ff80c570",
   "metadata": {},
   "source": [
    "#### Multiprocessing is a programming technique in Python that allows for parallel execution of tasks by utilizing multiple CPU cores. It involves creating and managing multiple processes, each with its own memory space, to perform tasks concurrently.\n",
    "\n",
    "#### Why is Multiprocessing Useful?\n",
    "#### Bypassing GIL:\n",
    "\n",
    "#### Global Interpreter Lock (GIL): In CPython, the GIL can limit the effectiveness of multithreading for CPU-bound tasks. Multiprocessing sidesteps this issue because each process has its own Python interpreter and memory space, allowing true parallelism.\n",
    " #### Improved Performance:\n",
    "\n",
    "#### Parallel Execution: Utilizes multiple CPU cores to perform computations or tasks simultaneously, improving overall performance for CPU-bound operations.\n",
    "#### Isolated Processes:\n",
    "\n",
    "#### Memory Isolation: Each process runs independently with its own memory space, avoiding issues like data corruption due to concurrent access.\n",
    " #### Better Resource Utilization:\n",
    "\n",
    "#### Efficient CPU Usage: Can make better use of available CPU cores, especially for tasks that can be divided into smaller, parallelizable units.\n"
   ]
  },
  {
   "cell_type": "markdown",
   "id": "301a1222-37a5-49f0-8a41-ed046de1eea8",
   "metadata": {},
   "source": [
    "### Q2. What are the differences between multiprocessing and multithreading?"
   ]
  },
  {
   "cell_type": "markdown",
   "id": "8cefe4ec-8735-4770-8c84-3c59c2a054ec",
   "metadata": {},
   "source": [
    "#### Concurrency vs. Parallelism:\n",
    "\n",
    "#### Multiprocessing: Achieves parallelism by running multiple processes simultaneously on different CPU cores. Each process has its own memory space.\n",
    "#### Multithreading: Achieves concurrency by running multiple threads within the same process. Threads share the same memory space.\n",
    "#### Global Interpreter Lock (GIL):\n",
    "\n",
    "#### Multiprocessing: Bypasses the GIL in CPython, allowing multiple processes to run in parallel on different CPU cores, effectively utilizing multiple cores for CPU-bound tasks.\n",
    "#### Multithreading: Limited by the GIL in CPython, which can prevent true parallelism for CPU-bound tasks. Threads are executed one at a time in the context of the GIL, though they can run concurrently for I/O-bound tasks.\n",
    "#### Memory Space:\n",
    "\n",
    "#### Multiprocessing: Each process has its own independent memory space. This isolation avoids issues related to shared memory but requires inter-process communication (IPC) for data sharing.\n",
    " #### Multithreading: Threads share the same memory space of the parent process, which facilitates communication and data sharing but introduces risks like race conditions and synchronization issues.\n",
    "#### Overhead:\n",
    "\n",
    "#### Multiprocessing: Higher memory and resource overhead due to the creation of separate processes. Each process has its own memory and resources.\n",
    "#### Multithreading: Lower overhead compared to multiprocessing, as threads share the same memory space and resources of the parent process.\n",
    "#### Synchronization:\n",
    "\n",
    "#### Multiprocessing: Requires inter-process communication (IPC) mechanisms like queues or pipes to share data between processes.\n",
    "#### Multithreading: Uses synchronization mechanisms like locks, semaphores, or condition variables to manage access to shared resources.\n",
    "####Fault Isolation:\n",
    "\n",
    "#### Multiprocessing: Faults in one process do not affect other processes, providing better fault isolation.\n",
    "#### Multithreading: A fault or crash in one thread can potentially affect the entire process, since threads share the same memory space.\n"
   ]
  },
  {
   "cell_type": "markdown",
   "id": "8fa34ebb-cec5-404b-a83c-f4a981ec0a43",
   "metadata": {},
   "source": [
    "### Q3. Write a python code to create a process using the multiprocessing module."
   ]
  },
  {
   "cell_type": "code",
   "execution_count": null,
   "id": "6aefc221-3374-43a8-9398-bedcef7c6567",
   "metadata": {},
   "outputs": [],
   "source": [
    "import multiprocessing\n",
    "\n",
    "def print_message(message):\n",
    "    print(f\"Message from process: {message}\")\n",
    "\n",
    "if __name__ == \"__main__\":\n",
    "    process = multiprocessing.Process(target=print_message, args=(\"Hello from the process!\",))\n",
    "\n",
    "    process.start()\n",
    "\n",
    "    process.join()\n",
    "\n",
    "    print(\"Process has completed execution.\")\n"
   ]
  },
  {
   "cell_type": "markdown",
   "id": "6174e10e-4b1c-4407-85c2-c260428ee0ce",
   "metadata": {},
   "source": [
    "### Q4. What is a multiprocessing pool in python? Why is it used?"
   ]
  },
  {
   "cell_type": "markdown",
   "id": "8b19fdca-4098-4144-96f9-92355c2b3da5",
   "metadata": {},
   "source": [
    "#### A multiprocessing pool in Python, provided by the multiprocessing module, is a collection of worker processes that can be used to parallelize the execution of a function across multiple input values. It helps manage a pool of worker processes and allows tasks to be distributed among them for concurrent execution.\n",
    "\n",
    "#### Why is it Used?\n",
    "#### Parallel Processing:\n",
    "\n",
    "#### Efficiency: Enables parallel execution of tasks, improving performance by utilizing multiple CPU cores. This is particularly useful for CPU-bound tasks that can be divided into independent subtasks.\n",
    "#### Task Management:\n",
    "\n",
    "#### Simplified Interface: The pool provides a high-level interface for managing multiple processes and distributing tasks, reducing the complexity of manually creating and handling individual processes.\n",
    "#### Load Balancing:\n",
    "\n",
    "#### Work Distribution: Distributes tasks among available worker processes efficiently, balancing the load and avoiding the overhead of manually managing process creation and termination.\n",
    "#### Resource Management:\n",
    "\n",
    "#### Controlled Resources: Allows for control over the number of processes (workers) running simultaneously, avoiding excessive resource consumption and managing system load effectively.\n"
   ]
  },
  {
   "cell_type": "markdown",
   "id": "9e115969-6c3d-45c7-bf44-d4cdf7bdbc15",
   "metadata": {},
   "source": [
    "#### Q5. How can we create a pool of worker processes in python using the multiprocessing module?"
   ]
  },
  {
   "cell_type": "code",
   "execution_count": 2,
   "id": "c03ba236-4214-400f-9d98-0d461af9a579",
   "metadata": {},
   "outputs": [
    {
     "name": "stdout",
     "output_type": "stream",
     "text": [
      "Squared numbers: [1, 4, 9, 16, 25]\n"
     ]
    }
   ],
   "source": [
    "import multiprocessing\n",
    "\n",
    "def square_number(n):\n",
    "    return n * n\n",
    "\n",
    "if __name__ == \"__main__\":\n",
    "    numbers = [1, 2, 3, 4, 5]\n",
    "\n",
    "    with multiprocessing.Pool(processes=4) as pool:\n",
    "        results = pool.map(square_number, numbers)\n",
    "\n",
    "    print(\"Squared numbers:\", results)\n"
   ]
  },
  {
   "cell_type": "markdown",
   "id": "b924fc9b-b9f9-47e2-a64c-23acfdd7a328",
   "metadata": {},
   "source": [
    "### Q6. Write a python program to create 4 processes, each process should print a different number using the multiprocessing module in python."
   ]
  },
  {
   "cell_type": "code",
   "execution_count": 3,
   "id": "aada9d4b-c7ca-4d02-9753-86e44c3cc0f6",
   "metadata": {},
   "outputs": [
    {
     "name": "stdout",
     "output_type": "stream",
     "text": [
      "Number from process: 1\n",
      "Number from process: 2\n",
      "Number from process: 3\n",
      "Number from process: 4\n",
      "All processes have completed execution.\n"
     ]
    }
   ],
   "source": [
    "import multiprocessing\n",
    "\n",
    "def print_number(number):\n",
    "    print(f\"Number from process: {number}\")\n",
    "\n",
    "if __name__ == \"__main__\":\n",
    "    numbers = [1, 2, 3, 4]\n",
    "\n",
    "    processes = []\n",
    "    for number in numbers:\n",
    "        process = multiprocessing.Process(target=print_number, args=(number,))\n",
    "        processes.append(process)\n",
    "        process.start()\n",
    "\n",
    "    for process in processes:\n",
    "        process.join()\n",
    "\n",
    "    print(\"All processes have completed execution.\")\n"
   ]
  },
  {
   "cell_type": "code",
   "execution_count": null,
   "id": "7225e667-a515-41b7-94c1-1d35af6d319e",
   "metadata": {},
   "outputs": [],
   "source": []
  }
 ],
 "metadata": {
  "kernelspec": {
   "display_name": "Python 3 (ipykernel)",
   "language": "python",
   "name": "python3"
  },
  "language_info": {
   "codemirror_mode": {
    "name": "ipython",
    "version": 3
   },
   "file_extension": ".py",
   "mimetype": "text/x-python",
   "name": "python",
   "nbconvert_exporter": "python",
   "pygments_lexer": "ipython3",
   "version": "3.10.8"
  }
 },
 "nbformat": 4,
 "nbformat_minor": 5
}
